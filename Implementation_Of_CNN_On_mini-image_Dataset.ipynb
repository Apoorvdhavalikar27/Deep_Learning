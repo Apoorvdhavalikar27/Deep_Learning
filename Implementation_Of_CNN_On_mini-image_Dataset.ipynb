{
  "nbformat": 4,
  "nbformat_minor": 0,
  "metadata": {
    "colab": {
      "name": "L_Implementation Of CNN On miniimage Data",
      "provenance": [],
      "collapsed_sections": [],
      "toc_visible": true,
      "include_colab_link": true
    },
    "kernelspec": {
      "display_name": "Python 3",
      "name": "python3"
    },
    "accelerator": "GPU"
  },
  "cells": [
    {
      "cell_type": "markdown",
      "metadata": {
        "id": "view-in-github",
        "colab_type": "text"
      },
      "source": [
        "<a href=\"https://colab.research.google.com/github/Apoorvdhavalikar27/Deep_Learning/blob/main/Implementation_Of_CNN_On_mini-image_Dataset.ipynb\" target=\"_parent\"><img src=\"https://colab.research.google.com/assets/colab-badge.svg\" alt=\"Open In Colab\"/></a>"
      ]
    },
    {
      "cell_type": "code",
      "metadata": {
        "id": "wRzLSQkujL-m"
      },
      "source": [
        "import pandas as pd\n",
        "import numpy as np\n",
        "import tensorflow\n",
        "from tensorflow import keras \n",
        "import matplotlib.pyplot as plt\n",
        "from sklearn.metrics import classification_report"
      ],
      "execution_count": null,
      "outputs": []
    },
    {
      "cell_type": "code",
      "metadata": {
        "id": "fiI_TbfPjqoX"
      },
      "source": [
        "(X_train,y_train),(X_test,y_test) = keras.datasets.cifar10.load_data()"
      ],
      "execution_count": null,
      "outputs": []
    },
    {
      "cell_type": "code",
      "metadata": {
        "id": "3e7xAFMhkRae",
        "colab": {
          "base_uri": "https://localhost:8080/"
        },
        "outputId": "a35c98d5-b1f2-4cae-f1e4-e3194583b27b"
      },
      "source": [
        "X_train.shape,X_test.shape"
      ],
      "execution_count": null,
      "outputs": [
        {
          "output_type": "execute_result",
          "data": {
            "text/plain": [
              "((50000, 32, 32, 3), (10000, 32, 32, 3))"
            ]
          },
          "metadata": {
            "tags": []
          },
          "execution_count": 3
        }
      ]
    },
    {
      "cell_type": "code",
      "metadata": {
        "id": "xHYAhiNLkdEO",
        "colab": {
          "base_uri": "https://localhost:8080/",
          "height": 176
        },
        "outputId": "f2293289-9653-4bdd-8d6f-b0aeb39cf89c"
      },
      "source": [
        "plt.figure(figsize=(15,2))\n",
        "plt.imshow(X_train[1])"
      ],
      "execution_count": null,
      "outputs": [
        {
          "output_type": "execute_result",
          "data": {
            "text/plain": [
              "<matplotlib.image.AxesImage at 0x7f4908deab50>"
            ]
          },
          "metadata": {
            "tags": []
          },
          "execution_count": 4
        },
        {
          "output_type": "display_data",
          "data": {
            "image/png": "[encoded data removed]",
            "text/plain": [
              "<Figure size 1080x144 with 1 Axes>"
            ]
          },
          "metadata": {
            "tags": [],
            "needs_background": "light"
          }
        }
      ]
    },
    {
      "cell_type": "code",
      "metadata": {
        "id": "46TpMVmgk7r0",
        "colab": {
          "base_uri": "https://localhost:8080/"
        },
        "outputId": "b69b6eb5-fc88-4e3f-a391-cf4d4b639957"
      },
      "source": [
        "y_test[:5]"
      ],
      "execution_count": null,
      "outputs": [
        {
          "output_type": "execute_result",
          "data": {
            "text/plain": [
              "array([[3],\n",
              "       [8],\n",
              "       [8],\n",
              "       [0],\n",
              "       [6]], dtype=uint8)"
            ]
          },
          "metadata": {
            "tags": []
          },
          "execution_count": 5
        }
      ]
    },
    {
      "cell_type": "markdown",
      "metadata": {
        "id": "ggMFsomwliRO"
      },
      "source": [
        "y_test and y_train are 2d arrays, we convert it into 1d array by reshaping"
      ]
    },
    {
      "cell_type": "code",
      "metadata": {
        "id": "nodj6VWZm5H3",
        "colab": {
          "base_uri": "https://localhost:8080/"
        },
        "outputId": "0eff6e52-9c58-44b1-bf17-1deae6f7a8c8"
      },
      "source": [
        "y_test = y_test.reshape(-1)\n",
        "y_test[:5]\n",
        "\n",
        "y_train = y_train.reshape(-1)\n",
        "y_train[:5]"
      ],
      "execution_count": null,
      "outputs": [
        {
          "output_type": "execute_result",
          "data": {
            "text/plain": [
              "array([6, 9, 9, 4, 1], dtype=uint8)"
            ]
          },
          "metadata": {
            "tags": []
          },
          "execution_count": 6
        }
      ]
    },
    {
      "cell_type": "code",
      "metadata": {
        "id": "exHqAks8l5tZ"
      },
      "source": [
        "classes = ['airplane','automobile','bird','cat','deer','dog','frog','horse','ship','truck']"
      ],
      "execution_count": null,
      "outputs": []
    },
    {
      "cell_type": "code",
      "metadata": {
        "id": "EYbQ6nOulrn_"
      },
      "source": [
        "def showimage(X,y,index):\n",
        "  plt.figure(figsize=(15,2))\n",
        "  plt.imshow(X[index])\n",
        "  plt.xlabel(classes[y[index]])\n"
      ],
      "execution_count": null,
      "outputs": []
    },
    {
      "cell_type": "code",
      "metadata": {
        "id": "rOaCMmismrSm",
        "colab": {
          "base_uri": "https://localhost:8080/",
          "height": 173
        },
        "outputId": "62aac1d4-4755-410e-da7d-70840161486e"
      },
      "source": [
        "showimage(X_train,y_train,5)"
      ],
      "execution_count": null,
      "outputs": [
        {
          "output_type": "display_data",
          "data": {
            "image/png": "[encoded data removed]",
            "text/plain": [
              "<Figure size 1080x144 with 1 Axes>"
            ]
          },
          "metadata": {
            "tags": [],
            "needs_background": "light"
          }
        }
      ]
    },
    {
      "cell_type": "code",
      "metadata": {
        "id": "ipyas6rTp0jG"
      },
      "source": [
        "X_test = X_test/255\n",
        "X_train = X_train/255"
      ],
      "execution_count": null,
      "outputs": []
    },
    {
      "cell_type": "code",
      "metadata": {
        "id": "waMzanbXnuzm"
      },
      "source": [
        "ANN = keras.Sequential([\n",
        "           keras.layers.Flatten(input_shape = (32,32,3)),\n",
        "           keras.layers.Dense(3000,activation='relu'),\n",
        "           keras.layers.Dense(1000,activation='relu'),\n",
        "           keras.layers.Dense(10,activation='sigmoid')             \n",
        "])\n",
        "\n",
        "ANN.compile(optimizer = 'adam',loss = 'sparse_categorical_crossentropy',metrics = ['accuracy'])"
      ],
      "execution_count": null,
      "outputs": []
    },
    {
      "cell_type": "code",
      "metadata": {
        "id": "JD_vXGlkpgy3",
        "colab": {
          "base_uri": "https://localhost:8080/"
        },
        "outputId": "5b63f6fb-0e3c-43d6-c2d5-1be474a3f3c5"
      },
      "source": [
        "ANN.fit(X_train,y_train,epochs = 10)"
      ],
      "execution_count": null,
      "outputs": [
        {
          "output_type": "stream",
          "text": [
            "Epoch 1/10\n",
            "1563/1563 [==============================] - 7s 4ms/step - loss: 1.8954 - accuracy: 0.3252\n",
            "Epoch 2/10\n",
            "1563/1563 [==============================] - 7s 4ms/step - loss: 1.6710 - accuracy: 0.4005\n",
            "Epoch 3/10\n",
            "1563/1563 [==============================] - 7s 4ms/step - loss: 1.5915 - accuracy: 0.4305\n",
            "Epoch 4/10\n",
            "1563/1563 [==============================] - 7s 4ms/step - loss: 1.5385 - accuracy: 0.4502\n",
            "Epoch 5/10\n",
            "1563/1563 [==============================] - 7s 4ms/step - loss: 1.4965 - accuracy: 0.4642\n",
            "Epoch 6/10\n",
            "1563/1563 [==============================] - 7s 4ms/step - loss: 1.4713 - accuracy: 0.4729\n",
            "Epoch 7/10\n",
            "1563/1563 [==============================] - 7s 4ms/step - loss: 1.4464 - accuracy: 0.4806\n",
            "Epoch 8/10\n",
            "1563/1563 [==============================] - 7s 4ms/step - loss: 1.4249 - accuracy: 0.4897\n",
            "Epoch 9/10\n",
            "1563/1563 [==============================] - 7s 4ms/step - loss: 1.4014 - accuracy: 0.4989\n",
            "Epoch 10/10\n",
            "1563/1563 [==============================] - 7s 4ms/step - loss: 1.3766 - accuracy: 0.5048\n"
          ],
          "name": "stdout"
        },
        {
          "output_type": "execute_result",
          "data": {
            "text/plain": [
              "<tensorflow.python.keras.callbacks.History at 0x7f490046f150>"
            ]
          },
          "metadata": {
            "tags": []
          },
          "execution_count": 12
        }
      ]
    },
    {
      "cell_type": "code",
      "metadata": {
        "id": "ct4Ett-erv-z",
        "colab": {
          "base_uri": "https://localhost:8080/"
        },
        "outputId": "12f2470e-5c95-4528-b2af-6b2b2776ac7f"
      },
      "source": [
        "ANN.evaluate(X_test,y_test)"
      ],
      "execution_count": null,
      "outputs": [
        {
          "output_type": "stream",
          "text": [
            "313/313 [==============================] - 1s 2ms/step - loss: 1.4702 - accuracy: 0.4808\n"
          ],
          "name": "stdout"
        },
        {
          "output_type": "execute_result",
          "data": {
            "text/plain": [
              "[1.4702118635177612, 0.48080000281333923]"
            ]
          },
          "metadata": {
            "tags": []
          },
          "execution_count": 13
        }
      ]
    },
    {
      "cell_type": "code",
      "metadata": {
        "id": "IRzNqlver2Uu",
        "colab": {
          "base_uri": "https://localhost:8080/"
        },
        "outputId": "9f4bc945-d0c1-40fa-b8a4-645f82034e29"
      },
      "source": [
        "y_p = ANN.predict(X_test)\n",
        "y_p[:5]"
      ],
      "execution_count": null,
      "outputs": [
        {
          "output_type": "execute_result",
          "data": {
            "text/plain": [
              "array([[8.1612557e-02, 1.3993306e-01, 3.2020235e-01, 6.3256657e-01,\n",
              "        4.1799042e-01, 5.1146561e-01, 4.1372728e-01, 6.7344956e-02,\n",
              "        3.0130929e-01, 5.5644590e-02],\n",
              "       [8.3015126e-01, 9.8160768e-01, 2.6907790e-01, 2.0365212e-04,\n",
              "        5.3908098e-03, 7.0060320e-05, 2.0119724e-04, 7.3088231e-03,\n",
              "        9.9547994e-01, 9.7524911e-01],\n",
              "       [8.7303472e-01, 9.5407009e-01, 2.3674504e-01, 2.7119875e-02,\n",
              "        2.9894650e-02, 1.9993862e-02, 1.9117240e-03, 8.0443718e-02,\n",
              "        9.8183030e-01, 8.6287129e-01],\n",
              "       [7.8982091e-01, 5.1852846e-01, 5.5152452e-01, 1.3941000e-01,\n",
              "        4.7483361e-01, 1.0373168e-01, 6.4577743e-02, 1.7031619e-01,\n",
              "        9.0172571e-01, 3.3872750e-01],\n",
              "       [3.0161705e-02, 1.7208551e-03, 5.9180176e-01, 5.0344098e-01,\n",
              "        9.6064681e-01, 6.6132450e-01, 9.2179912e-01, 8.3432473e-02,\n",
              "        3.2386035e-02, 2.4931820e-03]], dtype=float32)"
            ]
          },
          "metadata": {
            "tags": []
          },
          "execution_count": 14
        }
      ]
    },
    {
      "cell_type": "code",
      "metadata": {
        "id": "yl3JWurBsF2d",
        "colab": {
          "base_uri": "https://localhost:8080/"
        },
        "outputId": "2bde3e12-d2be-4c36-cdb3-e2d27a41c5e5"
      },
      "source": [
        "np.argmax([10,15,3,50])\n",
        "# Element at index 3 is maximum"
      ],
      "execution_count": null,
      "outputs": [
        {
          "output_type": "execute_result",
          "data": {
            "text/plain": [
              "3"
            ]
          },
          "metadata": {
            "tags": []
          },
          "execution_count": 15
        }
      ]
    },
    {
      "cell_type": "code",
      "metadata": {
        "id": "zjc4B6YTtIWM",
        "colab": {
          "base_uri": "https://localhost:8080/"
        },
        "outputId": "219d4c8c-05f0-49c7-a431-05932a5a613f"
      },
      "source": [
        "ann_predicted = []\n",
        "for i in range(len(y_p)):\n",
        "  ann_predicted.append(np.argmax(y_p[i]))\n",
        "\n",
        "ann_predicted[:5]"
      ],
      "execution_count": null,
      "outputs": [
        {
          "output_type": "execute_result",
          "data": {
            "text/plain": [
              "[3, 8, 8, 8, 4]"
            ]
          },
          "metadata": {
            "tags": []
          },
          "execution_count": 16
        }
      ]
    },
    {
      "cell_type": "code",
      "metadata": {
        "id": "nhGtVLZ7r95P",
        "colab": {
          "base_uri": "https://localhost:8080/"
        },
        "outputId": "8be9534f-1e96-476b-ef97-ab3c309e5fb2"
      },
      "source": [
        "y_test[:5]"
      ],
      "execution_count": null,
      "outputs": [
        {
          "output_type": "execute_result",
          "data": {
            "text/plain": [
              "array([3, 8, 8, 0, 6], dtype=uint8)"
            ]
          },
          "metadata": {
            "tags": []
          },
          "execution_count": 17
        }
      ]
    },
    {
      "cell_type": "code",
      "metadata": {
        "id": "J5ENFmHdvSqf"
      },
      "source": [
        "truth = y_test"
      ],
      "execution_count": null,
      "outputs": []
    },
    {
      "cell_type": "code",
      "metadata": {
        "id": "f56-FYkovY4U",
        "colab": {
          "base_uri": "https://localhost:8080/"
        },
        "outputId": "c25af8d2-f164-4cfd-e639-70c176fb1e34"
      },
      "source": [
        "print(classification_report(truth,ann_predicted))"
      ],
      "execution_count": null,
      "outputs": [
        {
          "output_type": "stream",
          "text": [
            "              precision    recall  f1-score   support\n",
            "\n",
            "           0       0.48      0.52      0.50      1000\n",
            "           1       0.60      0.58      0.59      1000\n",
            "           2       0.39      0.24      0.29      1000\n",
            "           3       0.35      0.29      0.32      1000\n",
            "           4       0.43      0.45      0.44      1000\n",
            "           5       0.39      0.34      0.36      1000\n",
            "           6       0.49      0.61      0.54      1000\n",
            "           7       0.56      0.55      0.55      1000\n",
            "           8       0.52      0.72      0.60      1000\n",
            "           9       0.53      0.52      0.52      1000\n",
            "\n",
            "    accuracy                           0.48     10000\n",
            "   macro avg       0.47      0.48      0.47     10000\n",
            "weighted avg       0.47      0.48      0.47     10000\n",
            "\n"
          ],
          "name": "stdout"
        }
      ]
    },
    {
      "cell_type": "markdown",
      "metadata": {
        "id": "SV8QaqVQvmiv"
      },
      "source": [
        "Now let's design CNN"
      ]
    },
    {
      "cell_type": "code",
      "metadata": {
        "id": "297ziaiavsKe"
      },
      "source": [
        "CNN = keras.Sequential([\n",
        "                        # CNN\n",
        "           keras.layers.Conv2D(filters = 32, kernel_size = (3,3), activation = 'relu',input_shape = (32,32,3)),\n",
        "           keras.layers.MaxPooling2D((2,2)),\n",
        "           keras.layers.Conv2D(filters = 64, kernel_size = (3,3), activation = 'relu'),\n",
        "           keras.layers.MaxPooling2D((2,2)),\n",
        "\n",
        "                       # dense \n",
        "           keras.layers.Flatten(),\n",
        "           keras.layers.Dense(1000,activation='relu'),\n",
        "           keras.layers.Dense(10,activation='softmax')             \n",
        "])\n",
        "CNN.compile(optimizer = 'adam',loss = 'sparse_categorical_crossentropy',metrics = ['accuracy'])"
      ],
      "execution_count": null,
      "outputs": []
    },
    {
      "cell_type": "code",
      "metadata": {
        "id": "HqtVrWoyxJwV",
        "colab": {
          "base_uri": "https://localhost:8080/"
        },
        "outputId": "5368fb0e-f71c-499f-fd94-60c9554c91a2"
      },
      "source": [
        "CNN.fit(X_train,y_train,epochs=10)"
      ],
      "execution_count": null,
      "outputs": [
        {
          "output_type": "stream",
          "text": [
            "Epoch 1/10\n",
            "1563/1563 [==============================] - 7s 3ms/step - loss: 1.3263 - accuracy: 0.5260\n",
            "Epoch 2/10\n",
            "1563/1563 [==============================] - 5s 3ms/step - loss: 0.9435 - accuracy: 0.6711\n",
            "Epoch 3/10\n",
            "1563/1563 [==============================] - 5s 3ms/step - loss: 0.7390 - accuracy: 0.7410\n",
            "Epoch 4/10\n",
            "1563/1563 [==============================] - 5s 3ms/step - loss: 0.5655 - accuracy: 0.8024\n",
            "Epoch 5/10\n",
            "1563/1563 [==============================] - 5s 3ms/step - loss: 0.3912 - accuracy: 0.8652\n",
            "Epoch 6/10\n",
            "1563/1563 [==============================] - 5s 3ms/step - loss: 0.2438 - accuracy: 0.9157\n",
            "Epoch 7/10\n",
            "1563/1563 [==============================] - 5s 3ms/step - loss: 0.1466 - accuracy: 0.9511\n",
            "Epoch 8/10\n",
            "1563/1563 [==============================] - 5s 3ms/step - loss: 0.1079 - accuracy: 0.9637\n",
            "Epoch 9/10\n",
            "1563/1563 [==============================] - 5s 3ms/step - loss: 0.0902 - accuracy: 0.9688\n",
            "Epoch 10/10\n",
            "1563/1563 [==============================] - 5s 3ms/step - loss: 0.0826 - accuracy: 0.9721\n"
          ],
          "name": "stdout"
        },
        {
          "output_type": "execute_result",
          "data": {
            "text/plain": [
              "<tensorflow.python.keras.callbacks.History at 0x7f49001de110>"
            ]
          },
          "metadata": {
            "tags": []
          },
          "execution_count": 21
        }
      ]
    },
    {
      "cell_type": "code",
      "metadata": {
        "id": "AQY2CYi-1zWZ",
        "colab": {
          "base_uri": "https://localhost:8080/"
        },
        "outputId": "2a7fe7f2-0fd8-4d09-c457-39b98a4b8a93"
      },
      "source": [
        "CNN.evaluate(X_test,y_test)"
      ],
      "execution_count": null,
      "outputs": [
        {
          "output_type": "stream",
          "text": [
            "313/313 [==============================] - 1s 2ms/step - loss: 1.6321 - accuracy: 0.7121\n"
          ],
          "name": "stdout"
        },
        {
          "output_type": "execute_result",
          "data": {
            "text/plain": [
              "[1.6321361064910889, 0.7121000289916992]"
            ]
          },
          "metadata": {
            "tags": []
          },
          "execution_count": 22
        }
      ]
    },
    {
      "cell_type": "markdown",
      "metadata": {
        "id": "HOZUCpHJ1qHc"
      },
      "source": [
        "Using CNN accuracy is clearly increased but testing accuracy is less than training accuracy"
      ]
    },
    {
      "cell_type": "code",
      "metadata": {
        "id": "okMpfQCL2UXf",
        "colab": {
          "base_uri": "https://localhost:8080/"
        },
        "outputId": "e9e9c57e-924a-4687-f8e3-53c3d2001189"
      },
      "source": [
        "predict = CNN.predict(X_test)\n",
        "predict[:2]"
      ],
      "execution_count": null,
      "outputs": [
        {
          "output_type": "execute_result",
          "data": {
            "text/plain": [
              "array([[5.4584753e-08, 4.2019808e-11, 2.3407008e-05, 9.9997473e-01,\n",
              "        2.0362451e-10, 1.9180395e-06, 1.7325489e-09, 3.8691114e-15,\n",
              "        5.3250394e-11, 1.4271243e-14],\n",
              "       [2.7313099e-06, 5.2229082e-03, 9.5274063e-14, 2.5151308e-17,\n",
              "        7.2374340e-17, 9.1653577e-17, 6.0024532e-15, 1.8482018e-14,\n",
              "        9.9476916e-01, 5.2446417e-06]], dtype=float32)"
            ]
          },
          "metadata": {
            "tags": []
          },
          "execution_count": 23
        }
      ]
    },
    {
      "cell_type": "code",
      "metadata": {
        "id": "BudMiWnz2nLP"
      },
      "source": [
        "cnn_predicted = []\n",
        "for i in range(len(predict)):\n",
        "  cnn_predicted.append(np.argmax(predict[i]))"
      ],
      "execution_count": null,
      "outputs": []
    },
    {
      "cell_type": "code",
      "metadata": {
        "id": "eWTonOSd3Vg_",
        "colab": {
          "base_uri": "https://localhost:8080/"
        },
        "outputId": "a891631e-657e-4994-cb30-49e0390505e4"
      },
      "source": [
        "cnn_predicted[:5]"
      ],
      "execution_count": null,
      "outputs": [
        {
          "output_type": "execute_result",
          "data": {
            "text/plain": [
              "[3, 8, 8, 0, 4]"
            ]
          },
          "metadata": {
            "tags": []
          },
          "execution_count": 25
        }
      ]
    },
    {
      "cell_type": "code",
      "metadata": {
        "id": "vNFmKQG43Z83",
        "colab": {
          "base_uri": "https://localhost:8080/"
        },
        "outputId": "006c2dd7-19f0-4c45-b9b9-81f9294166d5"
      },
      "source": [
        "y_test[:5]"
      ],
      "execution_count": null,
      "outputs": [
        {
          "output_type": "execute_result",
          "data": {
            "text/plain": [
              "array([3, 8, 8, 0, 6], dtype=uint8)"
            ]
          },
          "metadata": {
            "tags": []
          },
          "execution_count": 26
        }
      ]
    },
    {
      "cell_type": "code",
      "metadata": {
        "id": "93YvHBgu3wEB",
        "colab": {
          "base_uri": "https://localhost:8080/"
        },
        "outputId": "0949f5e1-e238-4ad6-a30f-890cbc3c1169"
      },
      "source": [
        "print(classification_report(y_test,cnn_predicted))"
      ],
      "execution_count": null,
      "outputs": [
        {
          "output_type": "stream",
          "text": [
            "              precision    recall  f1-score   support\n",
            "\n",
            "           0       0.74      0.75      0.75      1000\n",
            "           1       0.86      0.78      0.82      1000\n",
            "           2       0.66      0.60      0.63      1000\n",
            "           3       0.52      0.55      0.54      1000\n",
            "           4       0.66      0.64      0.65      1000\n",
            "           5       0.59      0.59      0.59      1000\n",
            "           6       0.77      0.79      0.78      1000\n",
            "           7       0.72      0.80      0.76      1000\n",
            "           8       0.83      0.82      0.83      1000\n",
            "           9       0.77      0.79      0.78      1000\n",
            "\n",
            "    accuracy                           0.71     10000\n",
            "   macro avg       0.71      0.71      0.71     10000\n",
            "weighted avg       0.71      0.71      0.71     10000\n",
            "\n"
          ],
          "name": "stdout"
        }
      ]
    },
    {
      "cell_type": "markdown",
      "metadata": {
        "id": "U9qfeE2o4KcC"
      },
      "source": [
        "So F1-score of each class is incresed after use of CNN"
      ]
    }
  ]
}
