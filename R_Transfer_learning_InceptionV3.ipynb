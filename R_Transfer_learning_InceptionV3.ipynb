{
 "cells": [
  {
   "cell_type": "markdown",
   "metadata": {},
   "source": [
    "## Transfer Learning with Inception-V3"
   ]
  },
  {
   "cell_type": "code",
   "execution_count": 1,
   "metadata": {},
   "outputs": [],
   "source": [
    "import numpy as np\n",
    "import PIL\n",
    "import cv2\n",
    "import pathlib\n",
    "import tensorflow\n",
    "import tensorflow_hub as hub\n",
    "from tensorflow import keras\n",
    "from keras import Model,layers,Sequential"
   ]
  },
  {
   "cell_type": "code",
   "execution_count": 2,
   "metadata": {},
   "outputs": [],
   "source": [
    "# Here insted of fish image you can use any dataset for prediction in model.predict()\n",
    "data_path = 'DataSets/CatVsDog'\n",
    "my_data = pathlib.Path(data_path)\n",
    "cat_data = list(my_data.glob('cats/*.jpg'))\n",
    "dog_data = list(my_data.glob('dogs/*.jpg'))"
   ]
  },
  {
   "cell_type": "code",
   "execution_count": 3,
   "metadata": {},
   "outputs": [],
   "source": [
    "class_data = {\n",
    "    \n",
    "    'cat' : list(my_data.glob('cats/*.jpg')),\n",
    "    'dog' : list(my_data.glob('dogs/*.jpg'))\n",
    "}\n",
    "\n",
    "class_label = {\n",
    "    \n",
    "    'cat' : 0,\n",
    "    'dog' : 1\n",
    "}"
   ]
  },
  {
   "cell_type": "code",
   "execution_count": 4,
   "metadata": {},
   "outputs": [],
   "source": [
    "X,y = [],[]\n",
    "for pet_name , images in class_data.items():\n",
    "    for image in images:\n",
    "        img = cv2.imread(str(image))\n",
    "        img_resize = cv2.resize(img,(299,299))\n",
    "        X.append(img_resize)\n",
    "        y.append(class_label[pet_name])"
   ]
  },
  {
   "cell_type": "code",
   "execution_count": 5,
   "metadata": {},
   "outputs": [],
   "source": [
    "X = np.array(X)\n",
    "y = np.array(y)\n",
    "X_scale = X / 255"
   ]
  },
  {
   "cell_type": "code",
   "execution_count": 6,
   "metadata": {},
   "outputs": [],
   "source": [
    "from sklearn.model_selection import train_test_split\n",
    "X_train,X_test,y_train,y_test = train_test_split(X_scale,y,test_size = 0.2)"
   ]
  },
  {
   "cell_type": "code",
   "execution_count": 7,
   "metadata": {},
   "outputs": [],
   "source": [
    "image_size = (299,299)\n",
    "inception_model = Sequential([\n",
    "    hub.KerasLayer(\"https://tfhub.dev/google/tf2-preview/inception_v3/feature_vector/4\", output_shape=[1001])\n",
    "])\n",
    "inception_model.build([None, 299, 299, 3])"
   ]
  },
  {
   "cell_type": "code",
   "execution_count": 8,
   "metadata": {},
   "outputs": [],
   "source": [
    "clf = Sequential([\n",
    "    \n",
    "    inception_model,\n",
    "    layers.Dense(2)\n",
    "    \n",
    "    \n",
    "])\n",
    "clf.compile(optimizer = 'adam',loss =  'sparse_categorical_crossentropy',metrics = ['accuracy'])\n"
   ]
  },
  {
   "cell_type": "code",
   "execution_count": 9,
   "metadata": {},
   "outputs": [
    {
     "name": "stdout",
     "output_type": "stream",
     "text": [
      "Epoch 1/5\n",
      "50/50 [==============================] - 104s 2s/step - loss: 0.7198 - accuracy: 0.8908\n",
      "Epoch 2/5\n",
      "50/50 [==============================] - 83s 2s/step - loss: 0.4174 - accuracy: 0.9527\n",
      "Epoch 3/5\n",
      "50/50 [==============================] - 85s 2s/step - loss: 0.4278 - accuracy: 0.9499\n",
      "Epoch 4/5\n",
      "50/50 [==============================] - 88s 2s/step - loss: 0.3823 - accuracy: 0.9670\n",
      "Epoch 5/5\n",
      "50/50 [==============================] - 86s 2s/step - loss: 0.3751 - accuracy: 0.9501\n"
     ]
    },
    {
     "data": {
      "text/plain": [
       "<keras.callbacks.History at 0x22f475bc4f0>"
      ]
     },
     "execution_count": 9,
     "metadata": {},
     "output_type": "execute_result"
    }
   ],
   "source": [
    "clf.fit(X_train,y_train,epochs = 5)"
   ]
  },
  {
   "cell_type": "code",
   "execution_count": 11,
   "metadata": {},
   "outputs": [
    {
     "name": "stdout",
     "output_type": "stream",
     "text": [
      "13/13 [==============================] - 20s 1s/step - loss: 0.4028 - accuracy: 0.9626\n"
     ]
    },
    {
     "data": {
      "text/plain": [
       "[0.40278762578964233, 0.9625934958457947]"
      ]
     },
     "execution_count": 11,
     "metadata": {},
     "output_type": "execute_result"
    }
   ],
   "source": [
    "clf.evaluate(X_test,y_test)\n",
    "# Compare model test accuracy with notebook M and Q"
   ]
  },
  {
   "cell_type": "code",
   "execution_count": 12,
   "metadata": {},
   "outputs": [],
   "source": [
    "y_p = clf.predict(X_test)\n",
    "predicted = []\n",
    "for i in range(len(y_p)):\n",
    "    predicted.append(np.argmax(y_p[i]))"
   ]
  },
  {
   "cell_type": "code",
   "execution_count": 13,
   "metadata": {},
   "outputs": [],
   "source": [
    "truth = y_test"
   ]
  },
  {
   "cell_type": "code",
   "execution_count": 14,
   "metadata": {},
   "outputs": [
    {
     "name": "stdout",
     "output_type": "stream",
     "text": [
      "              precision    recall  f1-score   support\n",
      "\n",
      "           0       0.98      0.95      0.96       214\n",
      "           1       0.94      0.98      0.96       187\n",
      "\n",
      "    accuracy                           0.96       401\n",
      "   macro avg       0.96      0.96      0.96       401\n",
      "weighted avg       0.96      0.96      0.96       401\n",
      "\n"
     ]
    }
   ],
   "source": [
    "from sklearn.metrics import confusion_matrix,classification_report\n",
    "cm = confusion_matrix(truth,predicted)\n",
    "print(classification_report(truth,predicted))\n",
    "# compare accuracy and f1-score with notebook M and Q"
   ]
  },
  {
   "cell_type": "code",
   "execution_count": 15,
   "metadata": {},
   "outputs": [
    {
     "data": {
      "text/plain": [
       "<AxesSubplot:>"
      ]
     },
     "execution_count": 15,
     "metadata": {},
     "output_type": "execute_result"
    },
    {
     "data": {
      "image/png": "[encoded data removed]",
      "text/plain": [
       "<Figure size 432x288 with 2 Axes>"
      ]
     },
     "metadata": {
      "needs_background": "light"
     },
     "output_type": "display_data"
    }
   ],
   "source": [
    "import seaborn as sn\n",
    "sn.heatmap(cm,annot=True)"
   ]
  },
  {
   "cell_type": "code",
   "execution_count": null,
   "metadata": {},
   "outputs": [],
   "source": []
  }
 ],
 "metadata": {
  "kernelspec": {
   "display_name": "Python 3",
   "language": "python",
   "name": "python3"
  },
  "language_info": {
   "codemirror_mode": {
    "name": "ipython",
    "version": 3
   },
   "file_extension": ".py",
   "mimetype": "text/x-python",
   "name": "python",
   "nbconvert_exporter": "python",
   "pygments_lexer": "ipython3",
   "version": "3.8.5"
  }
 },
 "nbformat": 4,
 "nbformat_minor": 4
}
